{
 "cells": [
  {
   "cell_type": "markdown",
   "metadata": {},
   "source": [
    "# Exploratory-Data-Analysis: Drug Abuse and Mental Health\n",
    "___by Alejandro Echaniz and Sarah Zhu___\n",
    "\n",
    "__Table of Contents__\n",
    "1. Introduction \n",
    "2. Data Collection\n",
    "     - data cleaning\n",
    "     - designing experiment \n",
    "     - sss\n",
    "3. Data Analysis\n",
    "     - hypothesis testing\n",
    "     - AI/ ML Modeling \n",
    "     - sss\n",
    "4. Conclusion \n",
    "\n",
    "\n"
   ]
  },
  {
   "cell_type": "markdown",
   "metadata": {},
   "source": []
  }
 ],
 "metadata": {
  "kernelspec": {
   "display_name": "Python 3",
   "language": "python",
   "name": "python3"
  },
  "language_info": {
   "name": "python",
   "version": "3.12.3"
  }
 },
 "nbformat": 4,
 "nbformat_minor": 2
}
